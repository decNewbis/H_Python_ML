{
 "cells": [
  {
   "cell_type": "code",
   "id": "initial_id",
   "metadata": {
    "collapsed": true,
    "ExecuteTime": {
     "end_time": "2025-06-28T14:30:34.584677Z",
     "start_time": "2025-06-28T14:30:30.657814Z"
    }
   },
   "source": [
    "import numpy as np\n",
    "import pandas as pd\n",
    "import warnings\n",
    "import matplotlib.pyplot as plt\n",
    "import seaborn as sns\n",
    "from sklearn.model_selection import train_test_split\n",
    "from sklearn.preprocessing import LabelEncoder\n",
    "from sklearn.ensemble import RandomForestRegressor\n",
    "from sklearn.metrics import mean_squared_error, r2_score\n",
    "\n",
    "warnings.filterwarnings('ignore')"
   ],
   "outputs": [],
   "execution_count": 1
  },
  {
   "metadata": {
    "ExecuteTime": {
     "end_time": "2025-06-28T14:30:34.665260Z",
     "start_time": "2025-06-28T14:30:34.584677Z"
    }
   },
   "cell_type": "code",
   "source": [
    "df = pd.read_csv('./google_stock_data.csv')\n",
    "df.head()"
   ],
   "id": "29805b1977ac973a",
   "outputs": [
    {
     "data": {
      "text/plain": [
       "         Date     Close      High       Low      Open     Volume\n",
       "0  2004-08-19  2.484366  2.576470  2.375919  2.475947  897427216\n",
       "1  2004-08-20  2.681699  2.700763  2.488327  2.500954  458857488\n",
       "2  2004-08-23  2.708686  2.809705  2.700021  2.742112  366857939\n",
       "3  2004-08-24  2.596526  2.763156  2.564338  2.754243  306396159\n",
       "4  2004-08-25  2.624504  2.674023  2.572014  2.598754  184645512"
      ],
      "text/html": [
       "<div>\n",
       "<style scoped>\n",
       "    .dataframe tbody tr th:only-of-type {\n",
       "        vertical-align: middle;\n",
       "    }\n",
       "\n",
       "    .dataframe tbody tr th {\n",
       "        vertical-align: top;\n",
       "    }\n",
       "\n",
       "    .dataframe thead th {\n",
       "        text-align: right;\n",
       "    }\n",
       "</style>\n",
       "<table border=\"1\" class=\"dataframe\">\n",
       "  <thead>\n",
       "    <tr style=\"text-align: right;\">\n",
       "      <th></th>\n",
       "      <th>Date</th>\n",
       "      <th>Close</th>\n",
       "      <th>High</th>\n",
       "      <th>Low</th>\n",
       "      <th>Open</th>\n",
       "      <th>Volume</th>\n",
       "    </tr>\n",
       "  </thead>\n",
       "  <tbody>\n",
       "    <tr>\n",
       "      <th>0</th>\n",
       "      <td>2004-08-19</td>\n",
       "      <td>2.484366</td>\n",
       "      <td>2.576470</td>\n",
       "      <td>2.375919</td>\n",
       "      <td>2.475947</td>\n",
       "      <td>897427216</td>\n",
       "    </tr>\n",
       "    <tr>\n",
       "      <th>1</th>\n",
       "      <td>2004-08-20</td>\n",
       "      <td>2.681699</td>\n",
       "      <td>2.700763</td>\n",
       "      <td>2.488327</td>\n",
       "      <td>2.500954</td>\n",
       "      <td>458857488</td>\n",
       "    </tr>\n",
       "    <tr>\n",
       "      <th>2</th>\n",
       "      <td>2004-08-23</td>\n",
       "      <td>2.708686</td>\n",
       "      <td>2.809705</td>\n",
       "      <td>2.700021</td>\n",
       "      <td>2.742112</td>\n",
       "      <td>366857939</td>\n",
       "    </tr>\n",
       "    <tr>\n",
       "      <th>3</th>\n",
       "      <td>2004-08-24</td>\n",
       "      <td>2.596526</td>\n",
       "      <td>2.763156</td>\n",
       "      <td>2.564338</td>\n",
       "      <td>2.754243</td>\n",
       "      <td>306396159</td>\n",
       "    </tr>\n",
       "    <tr>\n",
       "      <th>4</th>\n",
       "      <td>2004-08-25</td>\n",
       "      <td>2.624504</td>\n",
       "      <td>2.674023</td>\n",
       "      <td>2.572014</td>\n",
       "      <td>2.598754</td>\n",
       "      <td>184645512</td>\n",
       "    </tr>\n",
       "  </tbody>\n",
       "</table>\n",
       "</div>"
      ]
     },
     "execution_count": 2,
     "metadata": {},
     "output_type": "execute_result"
    }
   ],
   "execution_count": 2
  },
  {
   "metadata": {
    "ExecuteTime": {
     "end_time": "2025-06-28T14:30:34.683884Z",
     "start_time": "2025-06-28T14:30:34.668662Z"
    }
   },
   "cell_type": "code",
   "source": "df.shape",
   "id": "1313ec7b5986615a",
   "outputs": [
    {
     "data": {
      "text/plain": [
       "(5236, 6)"
      ]
     },
     "execution_count": 3,
     "metadata": {},
     "output_type": "execute_result"
    }
   ],
   "execution_count": 3
  },
  {
   "metadata": {
    "ExecuteTime": {
     "end_time": "2025-06-28T14:30:34.800593Z",
     "start_time": "2025-06-28T14:30:34.683884Z"
    }
   },
   "cell_type": "code",
   "source": "df.info()",
   "id": "e7ef8e855c399550",
   "outputs": [
    {
     "name": "stdout",
     "output_type": "stream",
     "text": [
      "<class 'pandas.core.frame.DataFrame'>\n",
      "RangeIndex: 5236 entries, 0 to 5235\n",
      "Data columns (total 6 columns):\n",
      " #   Column  Non-Null Count  Dtype  \n",
      "---  ------  --------------  -----  \n",
      " 0   Date    5236 non-null   object \n",
      " 1   Close   5236 non-null   float64\n",
      " 2   High    5236 non-null   float64\n",
      " 3   Low     5236 non-null   float64\n",
      " 4   Open    5236 non-null   float64\n",
      " 5   Volume  5236 non-null   int64  \n",
      "dtypes: float64(4), int64(1), object(1)\n",
      "memory usage: 245.6+ KB\n"
     ]
    }
   ],
   "execution_count": 4
  },
  {
   "metadata": {
    "ExecuteTime": {
     "end_time": "2025-06-28T14:30:41.327063Z",
     "start_time": "2025-06-28T14:30:41.280197Z"
    }
   },
   "cell_type": "code",
   "source": "pd.isnull(df)",
   "id": "631e8ab7660f952a",
   "outputs": [
    {
     "data": {
      "text/plain": [
       "       Date  Close   High    Low   Open  Volume\n",
       "0     False  False  False  False  False   False\n",
       "1     False  False  False  False  False   False\n",
       "2     False  False  False  False  False   False\n",
       "3     False  False  False  False  False   False\n",
       "4     False  False  False  False  False   False\n",
       "...     ...    ...    ...    ...    ...     ...\n",
       "5231  False  False  False  False  False   False\n",
       "5232  False  False  False  False  False   False\n",
       "5233  False  False  False  False  False   False\n",
       "5234  False  False  False  False  False   False\n",
       "5235  False  False  False  False  False   False\n",
       "\n",
       "[5236 rows x 6 columns]"
      ],
      "text/html": [
       "<div>\n",
       "<style scoped>\n",
       "    .dataframe tbody tr th:only-of-type {\n",
       "        vertical-align: middle;\n",
       "    }\n",
       "\n",
       "    .dataframe tbody tr th {\n",
       "        vertical-align: top;\n",
       "    }\n",
       "\n",
       "    .dataframe thead th {\n",
       "        text-align: right;\n",
       "    }\n",
       "</style>\n",
       "<table border=\"1\" class=\"dataframe\">\n",
       "  <thead>\n",
       "    <tr style=\"text-align: right;\">\n",
       "      <th></th>\n",
       "      <th>Date</th>\n",
       "      <th>Close</th>\n",
       "      <th>High</th>\n",
       "      <th>Low</th>\n",
       "      <th>Open</th>\n",
       "      <th>Volume</th>\n",
       "    </tr>\n",
       "  </thead>\n",
       "  <tbody>\n",
       "    <tr>\n",
       "      <th>0</th>\n",
       "      <td>False</td>\n",
       "      <td>False</td>\n",
       "      <td>False</td>\n",
       "      <td>False</td>\n",
       "      <td>False</td>\n",
       "      <td>False</td>\n",
       "    </tr>\n",
       "    <tr>\n",
       "      <th>1</th>\n",
       "      <td>False</td>\n",
       "      <td>False</td>\n",
       "      <td>False</td>\n",
       "      <td>False</td>\n",
       "      <td>False</td>\n",
       "      <td>False</td>\n",
       "    </tr>\n",
       "    <tr>\n",
       "      <th>2</th>\n",
       "      <td>False</td>\n",
       "      <td>False</td>\n",
       "      <td>False</td>\n",
       "      <td>False</td>\n",
       "      <td>False</td>\n",
       "      <td>False</td>\n",
       "    </tr>\n",
       "    <tr>\n",
       "      <th>3</th>\n",
       "      <td>False</td>\n",
       "      <td>False</td>\n",
       "      <td>False</td>\n",
       "      <td>False</td>\n",
       "      <td>False</td>\n",
       "      <td>False</td>\n",
       "    </tr>\n",
       "    <tr>\n",
       "      <th>4</th>\n",
       "      <td>False</td>\n",
       "      <td>False</td>\n",
       "      <td>False</td>\n",
       "      <td>False</td>\n",
       "      <td>False</td>\n",
       "      <td>False</td>\n",
       "    </tr>\n",
       "    <tr>\n",
       "      <th>...</th>\n",
       "      <td>...</td>\n",
       "      <td>...</td>\n",
       "      <td>...</td>\n",
       "      <td>...</td>\n",
       "      <td>...</td>\n",
       "      <td>...</td>\n",
       "    </tr>\n",
       "    <tr>\n",
       "      <th>5231</th>\n",
       "      <td>False</td>\n",
       "      <td>False</td>\n",
       "      <td>False</td>\n",
       "      <td>False</td>\n",
       "      <td>False</td>\n",
       "      <td>False</td>\n",
       "    </tr>\n",
       "    <tr>\n",
       "      <th>5232</th>\n",
       "      <td>False</td>\n",
       "      <td>False</td>\n",
       "      <td>False</td>\n",
       "      <td>False</td>\n",
       "      <td>False</td>\n",
       "      <td>False</td>\n",
       "    </tr>\n",
       "    <tr>\n",
       "      <th>5233</th>\n",
       "      <td>False</td>\n",
       "      <td>False</td>\n",
       "      <td>False</td>\n",
       "      <td>False</td>\n",
       "      <td>False</td>\n",
       "      <td>False</td>\n",
       "    </tr>\n",
       "    <tr>\n",
       "      <th>5234</th>\n",
       "      <td>False</td>\n",
       "      <td>False</td>\n",
       "      <td>False</td>\n",
       "      <td>False</td>\n",
       "      <td>False</td>\n",
       "      <td>False</td>\n",
       "    </tr>\n",
       "    <tr>\n",
       "      <th>5235</th>\n",
       "      <td>False</td>\n",
       "      <td>False</td>\n",
       "      <td>False</td>\n",
       "      <td>False</td>\n",
       "      <td>False</td>\n",
       "      <td>False</td>\n",
       "    </tr>\n",
       "  </tbody>\n",
       "</table>\n",
       "<p>5236 rows × 6 columns</p>\n",
       "</div>"
      ]
     },
     "execution_count": 5,
     "metadata": {},
     "output_type": "execute_result"
    }
   ],
   "execution_count": 5
  },
  {
   "metadata": {
    "ExecuteTime": {
     "end_time": "2025-06-28T14:30:51.744656Z",
     "start_time": "2025-06-28T14:30:51.713416Z"
    }
   },
   "cell_type": "code",
   "source": "pd.isnull(df).sum()",
   "id": "38c7fcee7d7d5ed6",
   "outputs": [
    {
     "data": {
      "text/plain": [
       "Date      0\n",
       "Close     0\n",
       "High      0\n",
       "Low       0\n",
       "Open      0\n",
       "Volume    0\n",
       "dtype: int64"
      ]
     },
     "execution_count": 6,
     "metadata": {},
     "output_type": "execute_result"
    }
   ],
   "execution_count": 6
  },
  {
   "metadata": {
    "ExecuteTime": {
     "end_time": "2025-06-28T14:31:05.582650Z",
     "start_time": "2025-06-28T14:31:05.567016Z"
    }
   },
   "cell_type": "code",
   "source": [
    "df = df.astype({\n",
    "    'Close': 'int',\n",
    "    'High': 'int',\n",
    "    'Low': 'int',\n",
    "    'Open': 'int'\n",
    "})"
   ],
   "id": "d9a1b19a48c26054",
   "outputs": [],
   "execution_count": 7
  },
  {
   "metadata": {
    "ExecuteTime": {
     "end_time": "2025-06-28T14:31:15.571521Z",
     "start_time": "2025-06-28T14:31:15.540283Z"
    }
   },
   "cell_type": "code",
   "source": "df['Close'].dtype",
   "id": "77449d9386a647b",
   "outputs": [
    {
     "data": {
      "text/plain": [
       "dtype('int32')"
      ]
     },
     "execution_count": 8,
     "metadata": {},
     "output_type": "execute_result"
    }
   ],
   "execution_count": 8
  },
  {
   "metadata": {
    "ExecuteTime": {
     "end_time": "2025-06-28T14:31:21.290569Z",
     "start_time": "2025-06-28T14:31:21.243697Z"
    }
   },
   "cell_type": "code",
   "source": "df.info()",
   "id": "81c2333017ad2b12",
   "outputs": [
    {
     "name": "stdout",
     "output_type": "stream",
     "text": [
      "<class 'pandas.core.frame.DataFrame'>\n",
      "RangeIndex: 5236 entries, 0 to 5235\n",
      "Data columns (total 6 columns):\n",
      " #   Column  Non-Null Count  Dtype \n",
      "---  ------  --------------  ----- \n",
      " 0   Date    5236 non-null   object\n",
      " 1   Close   5236 non-null   int32 \n",
      " 2   High    5236 non-null   int32 \n",
      " 3   Low     5236 non-null   int32 \n",
      " 4   Open    5236 non-null   int32 \n",
      " 5   Volume  5236 non-null   int64 \n",
      "dtypes: int32(4), int64(1), object(1)\n",
      "memory usage: 163.8+ KB\n"
     ]
    }
   ],
   "execution_count": 9
  },
  {
   "metadata": {
    "ExecuteTime": {
     "end_time": "2025-06-28T14:31:29.976Z",
     "start_time": "2025-06-28T14:31:29.960355Z"
    }
   },
   "cell_type": "code",
   "source": "df.columns",
   "id": "466c7e26235f6ced",
   "outputs": [
    {
     "data": {
      "text/plain": [
       "Index(['Date', 'Close', 'High', 'Low', 'Open', 'Volume'], dtype='object')"
      ]
     },
     "execution_count": 10,
     "metadata": {},
     "output_type": "execute_result"
    }
   ],
   "execution_count": 10
  },
  {
   "metadata": {
    "ExecuteTime": {
     "end_time": "2025-06-28T14:31:38.662013Z",
     "start_time": "2025-06-28T14:31:38.646404Z"
    }
   },
   "cell_type": "code",
   "source": [
    "features = ['Open', 'High', 'Low', 'Volume']\n",
    "target = 'Close'"
   ],
   "id": "da005649adfaee9a",
   "outputs": [],
   "execution_count": 11
  },
  {
   "metadata": {
    "ExecuteTime": {
     "end_time": "2025-06-28T14:32:15.445823Z",
     "start_time": "2025-06-28T14:32:15.430220Z"
    }
   },
   "cell_type": "code",
   "source": [
    "X = df[features]\n",
    "y = df[target]"
   ],
   "id": "c01e25eb2d584bb7",
   "outputs": [],
   "execution_count": 12
  },
  {
   "metadata": {
    "ExecuteTime": {
     "end_time": "2025-06-28T14:32:25.040901Z",
     "start_time": "2025-06-28T14:32:25.009658Z"
    }
   },
   "cell_type": "code",
   "source": "X_train, X_test, y_train, y_test = train_test_split(X, y, test_size=0.2, shuffle=False)",
   "id": "cb454c2d10c9f9a",
   "outputs": [],
   "execution_count": 13
  },
  {
   "metadata": {
    "ExecuteTime": {
     "end_time": "2025-06-28T14:32:36.669853Z",
     "start_time": "2025-06-28T14:32:35.291531Z"
    }
   },
   "cell_type": "code",
   "source": [
    "rf_model = RandomForestRegressor(n_estimators=100, random_state=42)\n",
    "rf_model.fit(X_train, y_train)\n",
    "rf_pred = rf_model.predict(X_test)"
   ],
   "id": "fa864328092e5871",
   "outputs": [],
   "execution_count": 14
  },
  {
   "metadata": {
    "ExecuteTime": {
     "end_time": "2025-06-28T14:33:16.860853Z",
     "start_time": "2025-06-28T14:33:16.496258Z"
    }
   },
   "cell_type": "code",
   "source": "from xgboost import XGBRegressor",
   "id": "6d873736320745c8",
   "outputs": [],
   "execution_count": 15
  },
  {
   "metadata": {
    "ExecuteTime": {
     "end_time": "2025-06-28T14:33:21.075826Z",
     "start_time": "2025-06-28T14:33:19.379602Z"
    }
   },
   "cell_type": "code",
   "source": [
    "xgb_model = XGBRegressor(n_estimators=100)\n",
    "xgb_model.fit(X_train, y_train)\n",
    "xgb_pred = xgb_model.predict(X_test)"
   ],
   "id": "c636f7e13166fc5a",
   "outputs": [],
   "execution_count": 16
  },
  {
   "metadata": {
    "ExecuteTime": {
     "end_time": "2025-06-28T14:33:38.908308Z",
     "start_time": "2025-06-28T14:33:38.861433Z"
    }
   },
   "cell_type": "code",
   "source": [
    "def evaluate(y_true, y_pred, model_name):\n",
    "    mse = mean_squared_error(y_true, y_pred)\n",
    "    r2 = r2_score(y_true, y_pred)\n",
    "    print(f\"{model_name} — MSE: {mse:.2f}, R²: {r2:.2f}\")\n",
    "\n",
    "evaluate(y_test, rf_pred, \"Random Forest\")\n",
    "evaluate(y_test, xgb_pred, \"XGBoost\")"
   ],
   "id": "7af1c9c2ba21c133",
   "outputs": [
    {
     "name": "stdout",
     "output_type": "stream",
     "text": [
      "Random Forest — MSE: 1358.57, R²: -0.81\n",
      "XGBoost — MSE: 1338.28, R²: -0.78\n"
     ]
    }
   ],
   "execution_count": 17
  },
  {
   "metadata": {
    "ExecuteTime": {
     "end_time": "2025-06-28T14:34:04.340574Z",
     "start_time": "2025-06-28T14:34:02.333006Z"
    }
   },
   "cell_type": "code",
   "source": [
    "import matplotlib.dates as mdates\n",
    "\n",
    "plt.figure(figsize=(12,6))\n",
    "plt.plot(df['Date'].iloc[-len(y_test):], y_test.values, label='Actual')\n",
    "plt.plot(df['Date'].iloc[-len(y_test):], rf_pred, label='RF Prediction')\n",
    "\n",
    "plt.gca().xaxis.set_major_formatter(mdates.DateFormatter('%Y-%m'))\n",
    "plt.gca().xaxis.set_major_locator(mdates.MonthLocator(interval=2))  # adjust interval if needed\n",
    "plt.xticks(rotation=45)\n",
    "\n",
    "plt.xlabel('Date')\n",
    "plt.ylabel('Closing Price')\n",
    "plt.title('Google Stock Price Prediction (Random Forest)')\n",
    "plt.legend()\n",
    "plt.grid()\n",
    "plt.tight_layout()\n",
    "plt.show()"
   ],
   "id": "371713faf3f7afb0",
   "outputs": [
    {
     "data": {
      "text/plain": [
       "<Figure size 1200x600 with 1 Axes>"
      ],
      "image/png": "[encoded data removed]"
     },
     "metadata": {},
     "output_type": "display_data"
    }
   ],
   "execution_count": 18
  }
 ],
 "metadata": {
  "kernelspec": {
   "display_name": "Python 3",
   "language": "python",
   "name": "python3"
  },
  "language_info": {
   "codemirror_mode": {
    "name": "ipython",
    "version": 2
   },
   "file_extension": ".py",
   "mimetype": "text/x-python",
   "name": "python",
   "nbconvert_exporter": "python",
   "pygments_lexer": "ipython2",
   "version": "2.7.6"
  }
 },
 "nbformat": 4,
 "nbformat_minor": 5
}
